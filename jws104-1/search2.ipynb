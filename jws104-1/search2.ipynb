{
 "cells": [
  {
   "cell_type": "markdown",
   "metadata": {},
   "source": [
    "http://www.geonames.org/export/geonames-search.html"
   ]
  },
  {
   "cell_type": "code",
   "execution_count": 8,
   "metadata": {},
   "outputs": [
    {
     "data": {
      "text/plain": [
       "<Response [200]>"
      ]
     },
     "execution_count": 8,
     "metadata": {},
     "output_type": "execute_result"
    }
   ],
   "source": [
    "import sys\n",
    "import requests\n",
    "\n",
    "q = 'indramayu'\n",
    "r = requests.get('http://api.geonames.org/searchJSON',\n",
    "    params={'q': q, 'username': 'ceefour'})\n",
    "r"
   ]
  },
  {
   "cell_type": "code",
   "execution_count": 9,
   "metadata": {},
   "outputs": [
    {
     "data": {
      "text/plain": [
       "{'geonames': [{'adminCode1': '30',\n",
       "   'adminName1': 'West Java',\n",
       "   'countryCode': 'ID',\n",
       "   'countryId': '1643084',\n",
       "   'countryName': 'Indonesia',\n",
       "   'fcl': 'P',\n",
       "   'fclName': 'city, village,...',\n",
       "   'fcode': 'PPLA2',\n",
       "   'fcodeName': 'seat of a second-order administrative division',\n",
       "   'geonameId': 1643078,\n",
       "   'lat': '-6.32639',\n",
       "   'lng': '108.32',\n",
       "   'name': 'Indramayu',\n",
       "   'population': 123263,\n",
       "   'toponymName': 'Indramayu'},\n",
       "  {'adminCode1': '30',\n",
       "   'adminName1': 'West Java',\n",
       "   'countryCode': 'ID',\n",
       "   'countryId': '1643084',\n",
       "   'countryName': 'Indonesia',\n",
       "   'fcl': 'A',\n",
       "   'fclName': 'country, state, region,...',\n",
       "   'fcode': 'ADM2',\n",
       "   'fcodeName': 'second-order administrative division',\n",
       "   'geonameId': 1643077,\n",
       "   'lat': '-6.45',\n",
       "   'lng': '108.16667',\n",
       "   'name': 'Kabupaten Indramayu',\n",
       "   'population': 1714184,\n",
       "   'toponymName': 'Kabupaten Indramayu'},\n",
       "  {'adminCode1': '30',\n",
       "   'adminName1': 'West Java',\n",
       "   'countryCode': 'ID',\n",
       "   'countryId': '1643084',\n",
       "   'countryName': 'Indonesia',\n",
       "   'fcl': 'T',\n",
       "   'fclName': 'mountain,hill,rock,... ',\n",
       "   'fcode': 'PT',\n",
       "   'fcodeName': 'point',\n",
       "   'geonameId': 1643075,\n",
       "   'lat': '-6.245',\n",
       "   'lng': '108.29472',\n",
       "   'name': 'Tanjung Indramayu',\n",
       "   'population': 0,\n",
       "   'toponymName': 'Tanjung Indramayu'},\n",
       "  {'adminCode1': '30',\n",
       "   'adminName1': 'West Java',\n",
       "   'countryCode': 'ID',\n",
       "   'countryId': '1643084',\n",
       "   'countryName': 'Indonesia',\n",
       "   'fcl': 'A',\n",
       "   'fclName': 'country, state, region,...',\n",
       "   'fcode': 'ADM3',\n",
       "   'fcodeName': 'third-order administrative division',\n",
       "   'geonameId': 6404422,\n",
       "   'lat': '-6.30111',\n",
       "   'lng': '108.34833',\n",
       "   'name': 'Kecamatan Indramayu',\n",
       "   'population': 0,\n",
       "   'toponymName': 'Kecamatan Indramayu'},\n",
       "  {'adminCode1': '00',\n",
       "   'adminName1': '',\n",
       "   'countryCode': 'ID',\n",
       "   'countryId': '1643084',\n",
       "   'countryName': 'Indonesia',\n",
       "   'fcl': 'S',\n",
       "   'fclName': 'spot, building, farm',\n",
       "   'fcode': 'RSTP',\n",
       "   'fcodeName': 'railroad stop',\n",
       "   'geonameId': 1643076,\n",
       "   'lat': '-6.31667',\n",
       "   'lng': '108.31667',\n",
       "   'name': 'Perhentian Indramayu',\n",
       "   'population': 0,\n",
       "   'toponymName': 'Perhentian Indramayu'},\n",
       "  {'adminCode1': '30',\n",
       "   'adminName1': 'West Java',\n",
       "   'countryCode': 'ID',\n",
       "   'countryId': '1643084',\n",
       "   'countryName': 'Indonesia',\n",
       "   'fcl': 'S',\n",
       "   'fclName': 'spot, building, farm',\n",
       "   'fcode': 'PS',\n",
       "   'fcodeName': 'power station',\n",
       "   'geonameId': 11612609,\n",
       "   'lat': '-6.27451',\n",
       "   'lng': '107.96825',\n",
       "   'name': 'PLTU Indramayu',\n",
       "   'population': 0,\n",
       "   'toponymName': 'PLTU Indramayu'}],\n",
       " 'totalResultsCount': 6}"
      ]
     },
     "execution_count": 9,
     "metadata": {},
     "output_type": "execute_result"
    }
   ],
   "source": [
    "data = r.json()\n",
    "data"
   ]
  },
  {
   "cell_type": "code",
   "execution_count": 10,
   "metadata": {},
   "outputs": [
    {
     "name": "stdout",
     "output_type": "stream",
     "text": [
      "6 places found for \"indramayu\"\n"
     ]
    }
   ],
   "source": [
    "print('%s places found for \"%s\"' % (len(data['geonames']), q))"
   ]
  },
  {
   "cell_type": "code",
   "execution_count": 13,
   "metadata": {},
   "outputs": [
    {
     "name": "stdout",
     "output_type": "stream",
     "text": [
      "Indramayu (-6.32639,108.32)\n",
      "Kabupaten Indramayu (-6.45,108.16667)\n",
      "Tanjung Indramayu (-6.245,108.29472)\n",
      "Kecamatan Indramayu (-6.30111,108.34833)\n",
      "Perhentian Indramayu (-6.31667,108.31667)\n",
      "PLTU Indramayu (-6.27451,107.96825)\n"
     ]
    }
   ],
   "source": [
    "for place in data['geonames']:\n",
    "    print('%s (%s,%s)' % (place['toponymName'], place['lat'], place['lng']))"
   ]
  }
 ],
 "metadata": {
  "kernelspec": {
   "display_name": "Python 3",
   "language": "python",
   "name": "python3"
  },
  "language_info": {
   "codemirror_mode": {
    "name": "ipython",
    "version": 3
   },
   "file_extension": ".py",
   "mimetype": "text/x-python",
   "name": "python",
   "nbconvert_exporter": "python",
   "pygments_lexer": "ipython3",
   "version": "3.6.1"
  }
 },
 "nbformat": 4,
 "nbformat_minor": 2
}
