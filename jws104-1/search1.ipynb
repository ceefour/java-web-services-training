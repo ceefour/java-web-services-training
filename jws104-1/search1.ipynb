{
 "cells": [
  {
   "cell_type": "markdown",
   "metadata": {},
   "source": [
    "http://www.geonames.org/export/geonames-search.html"
   ]
  },
  {
   "cell_type": "code",
   "execution_count": 1,
   "metadata": {},
   "outputs": [
    {
     "data": {
      "text/plain": [
       "<Response [200]>"
      ]
     },
     "execution_count": 1,
     "metadata": {},
     "output_type": "execute_result"
    }
   ],
   "source": [
    "import sys\n",
    "import requests\n",
    "\n",
    "q = 'kota sukabumi'\n",
    "r = requests.get('http://api.geonames.org/searchJSON',\n",
    "    params={'q': q, 'username': 'ceefour'})\n",
    "r"
   ]
  },
  {
   "cell_type": "code",
   "execution_count": 2,
   "metadata": {},
   "outputs": [
    {
     "data": {
      "text/plain": [
       "200"
      ]
     },
     "execution_count": 2,
     "metadata": {},
     "output_type": "execute_result"
    }
   ],
   "source": [
    "# HTTP status code:\n",
    "r.status_code"
   ]
  },
  {
   "cell_type": "code",
   "execution_count": 3,
   "metadata": {},
   "outputs": [
    {
     "data": {
      "text/plain": [
       "{'Date': 'Tue, 19 Sep 2017 07:13:02 GMT', 'Server': 'Apache/2.4.6 (CentOS) mod_jk/1.2.41 OpenSSL/1.0.1e-fips', 'Cache-Control': 'no-cache', 'Access-Control-Allow-Origin': '*', 'Transfer-Encoding': 'chunked', 'Content-Type': 'application/json;charset=UTF-8'}"
      ]
     },
     "execution_count": 3,
     "metadata": {},
     "output_type": "execute_result"
    }
   ],
   "source": [
    "# HTTP response headers\n",
    "r.headers"
   ]
  },
  {
   "cell_type": "code",
   "execution_count": 4,
   "metadata": {},
   "outputs": [
    {
     "data": {
      "text/plain": [
       "'{\"totalResultsCount\":2,\"geonames\":[{\"adminCode1\":\"30\",\"lng\":\"106.92667\",\"geonameId\":1626381,\"toponymName\":\"Sukabumi\",\"countryId\":\"1643084\",\"fcl\":\"P\",\"population\":276414,\"countryCode\":\"ID\",\"name\":\"Sukabumi\",\"fclName\":\"city, village,...\",\"countryName\":\"Indonesia\",\"fcodeName\":\"populated place\",\"adminName1\":\"West Java\",\"lat\":\"-6.91806\",\"fcode\":\"PPL\"},{\"adminCode1\":\"30\",\"lng\":\"106.93333\",\"geonameId\":1626379,\"toponymName\":\"Kota Sukabumi\",\"countryId\":\"1643084\",\"fcl\":\"A\",\"population\":311628,\"countryCode\":\"ID\",\"name\":\"Kota Sukabumi\",\"fclName\":\"country, state, region,...\",\"countryName\":\"Indonesia\",\"fcodeName\":\"second-order administrative division\",\"adminName1\":\"West Java\",\"lat\":\"-6.95\",\"fcode\":\"ADM2\"}]}'"
      ]
     },
     "execution_count": 4,
     "metadata": {},
     "output_type": "execute_result"
    }
   ],
   "source": [
    "# Response body\n",
    "r.text"
   ]
  },
  {
   "cell_type": "code",
   "execution_count": null,
   "metadata": {
    "collapsed": true
   },
   "outputs": [],
   "source": []
  }
 ],
 "metadata": {
  "kernelspec": {
   "display_name": "Python 3",
   "language": "python",
   "name": "python3"
  },
  "language_info": {
   "codemirror_mode": {
    "name": "ipython",
    "version": 3
   },
   "file_extension": ".py",
   "mimetype": "text/x-python",
   "name": "python",
   "nbconvert_exporter": "python",
   "pygments_lexer": "ipython3",
   "version": "3.6.1"
  }
 },
 "nbformat": 4,
 "nbformat_minor": 2
}
